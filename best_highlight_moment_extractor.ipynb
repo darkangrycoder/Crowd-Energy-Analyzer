{
  "nbformat": 4,
  "nbformat_minor": 0,
  "metadata": {
    "colab": {
      "provenance": [],
      "gpuType": "T4"
    },
    "kernelspec": {
      "name": "python3",
      "display_name": "Python 3"
    },
    "language_info": {
      "name": "python"
    },
    "accelerator": "GPU"
  },
  "cells": [
    {
      "cell_type": "code",
      "execution_count": 3,
      "metadata": {
        "colab": {
          "base_uri": "https://localhost:8080/"
        },
        "collapsed": true,
        "id": "IseihrhGUze3",
        "outputId": "c1986d20-10fe-4737-858a-e6c5438754e9"
      },
      "outputs": [
        {
          "output_type": "stream",
          "name": "stdout",
          "text": [
            "\u001b[31mERROR: pip's dependency resolver does not currently take into account all the packages that are installed. This behaviour is the source of the following dependency conflicts.\n",
            "peft 0.17.1 requires huggingface_hub>=0.25.0, but you have huggingface-hub 0.17.3 which is incompatible.\u001b[0m\u001b[31m\n",
            "\u001b[0m"
          ]
        }
      ],
      "source": [
        "import sys\n",
        "# Use fast installs; in Colab you can uncomment the pip calls and run the cell\n",
        "INSTALL = True\n",
        "if INSTALL:\n",
        "    !pip -q install moviepy librosa soundfile matplotlib opencv-python-headless tqdm transformers>=4.36.0 accelerate>=0.21.0 sentencepiece huggingface-hub>=0.20.0"
      ]
    },
    {
      "cell_type": "code",
      "source": [
        "import os\n",
        "import math\n",
        "import json\n",
        "import tempfile\n",
        "import numpy as np\n",
        "import pandas as pd\n",
        "from moviepy.editor import VideoFileClip\n",
        "import librosa\n",
        "import soundfile as sf\n",
        "import cv2\n",
        "import matplotlib.pyplot as plt\n",
        "from tqdm import tqdm\n",
        "from transformers import pipeline\n",
        "import requests\n",
        "\n",
        "# Helper: download a file from URL (if wanted)\n",
        "from urllib.parse import urlparse\n",
        "\n",
        "def download_url(url, target_path):\n",
        "    r = requests.get(url, stream=True)\n",
        "    r.raise_for_status()\n",
        "    total = int(r.headers.get('content-length', 0))\n",
        "    with open(target_path, 'wb') as f:\n",
        "        for chunk in r.iter_content(chunk_size=8192):\n",
        "            if chunk:\n",
        "                f.write(chunk)\n",
        "    return target_path\n",
        "\n"
      ],
      "metadata": {
        "colab": {
          "base_uri": "https://localhost:8080/"
        },
        "id": "wECmhz0hU5wo",
        "outputId": "1ff8f001-efa8-4054-e033-a5ef4746541b"
      },
      "execution_count": 4,
      "outputs": [
        {
          "output_type": "stream",
          "name": "stderr",
          "text": [
            "WARNING:py.warnings:/usr/local/lib/python3.12/dist-packages/transformers/utils/generic.py:309: FutureWarning: `torch.utils._pytree._register_pytree_node` is deprecated. Please use `torch.utils._pytree.register_pytree_node` instead.\n",
            "  _torch_pytree._register_pytree_node(\n",
            "\n",
            "WARNING:py.warnings:/usr/local/lib/python3.12/dist-packages/transformers/utils/generic.py:309: FutureWarning: `torch.utils._pytree._register_pytree_node` is deprecated. Please use `torch.utils._pytree.register_pytree_node` instead.\n",
            "  _torch_pytree._register_pytree_node(\n",
            "\n"
          ]
        }
      ]
    },
    {
      "cell_type": "code",
      "source": [
        "# You can either upload your own file in Colab or set VIDEO_PATH to a public URL.\n",
        "# If using upload, leave VIDEO_PATH as None and use the upload helper below.\n",
        "VIDEO_PATH = None\n",
        "TARGET_FPS = 2    # frames per second to sample for motion analysis (low to be lightweight)\n",
        "SEGMENT_SECONDS = 5  # segment duration for per-segment analysis\n",
        "HIGHLIGHT_SECONDS = 10  # length of highlight clip to extract\n",
        "MOTION_WEIGHT = 0.6\n",
        "AUDIO_WEIGHT = 0.4\n",
        "\n",
        "os.makedirs('outputs', exist_ok=True)"
      ],
      "metadata": {
        "id": "XfvTtycnVG7x"
      },
      "execution_count": 29,
      "outputs": []
    },
    {
      "cell_type": "code",
      "source": [
        "# If running in Colab, uncomment the following cell to upload a file with a file-picker.\n",
        "try:\n",
        "    from google.colab import files\n",
        "    _IN_COLAB = True\n",
        "except Exception:\n",
        "    _IN_COLAB = False\n",
        "\n",
        "if _IN_COLAB and VIDEO_PATH is None:\n",
        "    print('Running in Colab. You can upload a video (30-60s) using the file-picker.')\n",
        "    uploaded = files.upload()\n",
        "    if len(uploaded) > 0:\n",
        "        # take the first uploaded file\n",
        "        VIDEO_PATH = list(uploaded.keys())[0]\n",
        "        print('Uploaded:', VIDEO_PATH)\n",
        "\n",
        "# If VIDEO_PATH is a remote URL, download it\n",
        "if VIDEO_PATH and VIDEO_PATH.startswith('http'):\n",
        "    print('Downloading video...')\n",
        "    parsed = urlparse(VIDEO_PATH)\n",
        "    filename = os.path.basename(parsed.path) or 'video.mp4'\n",
        "    VIDEO_PATH = download_url(VIDEO_PATH, filename)\n",
        "    print('Saved to', VIDEO_PATH)\n",
        "\n",
        "if not VIDEO_PATH:\n",
        "    raise SystemExit('No VIDEO_PATH provided. Upload a file in Colab or set VIDEO_PATH to a URL or path.')\n",
        "\n",
        "# Quick sanity: load video metadata\n",
        "clip = VideoFileClip(VIDEO_PATH)\n",
        "VIDEO_DURATION = clip.duration\n",
        "print(f'Loaded video: {VIDEO_PATH} — duration: {VIDEO_DURATION:.2f}s')\n",
        "if VIDEO_DURATION < 8:\n",
        "    print('Warning: video is shorter than 8s, behavior may be odd.')"
      ],
      "metadata": {
        "colab": {
          "base_uri": "https://localhost:8080/",
          "height": 125
        },
        "id": "WCCu5htgVhhV",
        "outputId": "f623b4ad-184a-428e-fef5-1b9579588679"
      },
      "execution_count": 30,
      "outputs": [
        {
          "output_type": "stream",
          "name": "stdout",
          "text": [
            "Running in Colab. You can upload a video (30-60s) using the file-picker.\n"
          ]
        },
        {
          "output_type": "display_data",
          "data": {
            "text/plain": [
              "<IPython.core.display.HTML object>"
            ],
            "text/html": [
              "\n",
              "     <input type=\"file\" id=\"files-44dc2554-abfe-4006-87b8-476de80f3709\" name=\"files[]\" multiple disabled\n",
              "        style=\"border:none\" />\n",
              "     <output id=\"result-44dc2554-abfe-4006-87b8-476de80f3709\">\n",
              "      Upload widget is only available when the cell has been executed in the\n",
              "      current browser session. Please rerun this cell to enable.\n",
              "      </output>\n",
              "      <script>// Copyright 2017 Google LLC\n",
              "//\n",
              "// Licensed under the Apache License, Version 2.0 (the \"License\");\n",
              "// you may not use this file except in compliance with the License.\n",
              "// You may obtain a copy of the License at\n",
              "//\n",
              "//      http://www.apache.org/licenses/LICENSE-2.0\n",
              "//\n",
              "// Unless required by applicable law or agreed to in writing, software\n",
              "// distributed under the License is distributed on an \"AS IS\" BASIS,\n",
              "// WITHOUT WARRANTIES OR CONDITIONS OF ANY KIND, either express or implied.\n",
              "// See the License for the specific language governing permissions and\n",
              "// limitations under the License.\n",
              "\n",
              "/**\n",
              " * @fileoverview Helpers for google.colab Python module.\n",
              " */\n",
              "(function(scope) {\n",
              "function span(text, styleAttributes = {}) {\n",
              "  const element = document.createElement('span');\n",
              "  element.textContent = text;\n",
              "  for (const key of Object.keys(styleAttributes)) {\n",
              "    element.style[key] = styleAttributes[key];\n",
              "  }\n",
              "  return element;\n",
              "}\n",
              "\n",
              "// Max number of bytes which will be uploaded at a time.\n",
              "const MAX_PAYLOAD_SIZE = 100 * 1024;\n",
              "\n",
              "function _uploadFiles(inputId, outputId) {\n",
              "  const steps = uploadFilesStep(inputId, outputId);\n",
              "  const outputElement = document.getElementById(outputId);\n",
              "  // Cache steps on the outputElement to make it available for the next call\n",
              "  // to uploadFilesContinue from Python.\n",
              "  outputElement.steps = steps;\n",
              "\n",
              "  return _uploadFilesContinue(outputId);\n",
              "}\n",
              "\n",
              "// This is roughly an async generator (not supported in the browser yet),\n",
              "// where there are multiple asynchronous steps and the Python side is going\n",
              "// to poll for completion of each step.\n",
              "// This uses a Promise to block the python side on completion of each step,\n",
              "// then passes the result of the previous step as the input to the next step.\n",
              "function _uploadFilesContinue(outputId) {\n",
              "  const outputElement = document.getElementById(outputId);\n",
              "  const steps = outputElement.steps;\n",
              "\n",
              "  const next = steps.next(outputElement.lastPromiseValue);\n",
              "  return Promise.resolve(next.value.promise).then((value) => {\n",
              "    // Cache the last promise value to make it available to the next\n",
              "    // step of the generator.\n",
              "    outputElement.lastPromiseValue = value;\n",
              "    return next.value.response;\n",
              "  });\n",
              "}\n",
              "\n",
              "/**\n",
              " * Generator function which is called between each async step of the upload\n",
              " * process.\n",
              " * @param {string} inputId Element ID of the input file picker element.\n",
              " * @param {string} outputId Element ID of the output display.\n",
              " * @return {!Iterable<!Object>} Iterable of next steps.\n",
              " */\n",
              "function* uploadFilesStep(inputId, outputId) {\n",
              "  const inputElement = document.getElementById(inputId);\n",
              "  inputElement.disabled = false;\n",
              "\n",
              "  const outputElement = document.getElementById(outputId);\n",
              "  outputElement.innerHTML = '';\n",
              "\n",
              "  const pickedPromise = new Promise((resolve) => {\n",
              "    inputElement.addEventListener('change', (e) => {\n",
              "      resolve(e.target.files);\n",
              "    });\n",
              "  });\n",
              "\n",
              "  const cancel = document.createElement('button');\n",
              "  inputElement.parentElement.appendChild(cancel);\n",
              "  cancel.textContent = 'Cancel upload';\n",
              "  const cancelPromise = new Promise((resolve) => {\n",
              "    cancel.onclick = () => {\n",
              "      resolve(null);\n",
              "    };\n",
              "  });\n",
              "\n",
              "  // Wait for the user to pick the files.\n",
              "  const files = yield {\n",
              "    promise: Promise.race([pickedPromise, cancelPromise]),\n",
              "    response: {\n",
              "      action: 'starting',\n",
              "    }\n",
              "  };\n",
              "\n",
              "  cancel.remove();\n",
              "\n",
              "  // Disable the input element since further picks are not allowed.\n",
              "  inputElement.disabled = true;\n",
              "\n",
              "  if (!files) {\n",
              "    return {\n",
              "      response: {\n",
              "        action: 'complete',\n",
              "      }\n",
              "    };\n",
              "  }\n",
              "\n",
              "  for (const file of files) {\n",
              "    const li = document.createElement('li');\n",
              "    li.append(span(file.name, {fontWeight: 'bold'}));\n",
              "    li.append(span(\n",
              "        `(${file.type || 'n/a'}) - ${file.size} bytes, ` +\n",
              "        `last modified: ${\n",
              "            file.lastModifiedDate ? file.lastModifiedDate.toLocaleDateString() :\n",
              "                                    'n/a'} - `));\n",
              "    const percent = span('0% done');\n",
              "    li.appendChild(percent);\n",
              "\n",
              "    outputElement.appendChild(li);\n",
              "\n",
              "    const fileDataPromise = new Promise((resolve) => {\n",
              "      const reader = new FileReader();\n",
              "      reader.onload = (e) => {\n",
              "        resolve(e.target.result);\n",
              "      };\n",
              "      reader.readAsArrayBuffer(file);\n",
              "    });\n",
              "    // Wait for the data to be ready.\n",
              "    let fileData = yield {\n",
              "      promise: fileDataPromise,\n",
              "      response: {\n",
              "        action: 'continue',\n",
              "      }\n",
              "    };\n",
              "\n",
              "    // Use a chunked sending to avoid message size limits. See b/62115660.\n",
              "    let position = 0;\n",
              "    do {\n",
              "      const length = Math.min(fileData.byteLength - position, MAX_PAYLOAD_SIZE);\n",
              "      const chunk = new Uint8Array(fileData, position, length);\n",
              "      position += length;\n",
              "\n",
              "      const base64 = btoa(String.fromCharCode.apply(null, chunk));\n",
              "      yield {\n",
              "        response: {\n",
              "          action: 'append',\n",
              "          file: file.name,\n",
              "          data: base64,\n",
              "        },\n",
              "      };\n",
              "\n",
              "      let percentDone = fileData.byteLength === 0 ?\n",
              "          100 :\n",
              "          Math.round((position / fileData.byteLength) * 100);\n",
              "      percent.textContent = `${percentDone}% done`;\n",
              "\n",
              "    } while (position < fileData.byteLength);\n",
              "  }\n",
              "\n",
              "  // All done.\n",
              "  yield {\n",
              "    response: {\n",
              "      action: 'complete',\n",
              "    }\n",
              "  };\n",
              "}\n",
              "\n",
              "scope.google = scope.google || {};\n",
              "scope.google.colab = scope.google.colab || {};\n",
              "scope.google.colab._files = {\n",
              "  _uploadFiles,\n",
              "  _uploadFilesContinue,\n",
              "};\n",
              "})(self);\n",
              "</script> "
            ]
          },
          "metadata": {}
        },
        {
          "output_type": "stream",
          "name": "stdout",
          "text": [
            "Saving Cristiano Ronaldo Celebration _ Loudest Crowd Roar!!.mp4 to Cristiano Ronaldo Celebration _ Loudest Crowd Roar!!.mp4\n",
            "Uploaded: Cristiano Ronaldo Celebration _ Loudest Crowd Roar!!.mp4\n",
            "Loaded video: Cristiano Ronaldo Celebration _ Loudest Crowd Roar!!.mp4 — duration: 22.00s\n"
          ]
        }
      ]
    },
    {
      "cell_type": "code",
      "source": [
        "print('Extracting audio and computing audio energy...')\n",
        "# Extract audio to temporary wav\n",
        "audio_path = 'temp_audio.wav'\n",
        "clip.audio.write_audiofile(audio_path, verbose=False, logger=None)\n",
        "\n",
        "# Load audio with librosa (mono)\n",
        "y, sr = librosa.load(audio_path, sr=None, mono=True)\n",
        "# Compute RMS energy per short frame (hop length maps to 1 second windows)\n",
        "hop_length = int(sr * 0.5)  # half-second hop\n",
        "frame_length = int(sr * 0.5)  # compute RMS over 0.5s windows\n",
        "rms = librosa.feature.rms(y=y, frame_length=frame_length, hop_length=hop_length)[0]\n",
        "# Map RMS frames to times\n",
        "rms_times = librosa.frames_to_time(range(len(rms)), sr=sr, hop_length=hop_length, n_fft=frame_length)\n",
        "# For convenience, compute audio energy per 1-second bins aligned from 0..duration\n",
        "bins = int(math.ceil(VIDEO_DURATION))\n",
        "audio_energy = np.zeros(bins)\n",
        "counts = np.zeros(bins)\n",
        "for t_idx, t in enumerate(rms_times):\n",
        "    bin_idx = min(int(t), bins - 1)\n",
        "    audio_energy[bin_idx] += float(rms[t_idx])\n",
        "    counts[bin_idx] += 1\n",
        "for i in range(bins):\n",
        "    if counts[i] > 0:\n",
        "        audio_energy[i] /= counts[i]\n",
        "\n",
        "# Normalize audio_energy to 0..1\n",
        "if audio_energy.max() > 0:\n",
        "    audio_energy = audio_energy / audio_energy.max()\n",
        "\n",
        "print('Audio energy (per second):', audio_energy.shape)"
      ],
      "metadata": {
        "colab": {
          "base_uri": "https://localhost:8080/"
        },
        "id": "p0IyBIWXVr7q",
        "outputId": "d6a2082c-e0ac-4350-b372-2462da3be5c4"
      },
      "execution_count": 31,
      "outputs": [
        {
          "output_type": "stream",
          "name": "stdout",
          "text": [
            "Extracting audio and computing audio energy...\n",
            "Audio energy (per second): (22,)\n"
          ]
        }
      ]
    },
    {
      "cell_type": "code",
      "source": [
        "print('Computing visual motion energy (frame differencing)...')\n",
        "# sample frames at TARGET_FPS and compute absolute difference between consecutive frames\n",
        "video_cap = cv2.VideoCapture(VIDEO_PATH)\n",
        "orig_fps = video_cap.get(cv2.CAP_PROP_FPS) or 25\n",
        "frame_interval = int(round(orig_fps / TARGET_FPS)) if orig_fps > TARGET_FPS else 1\n",
        "frame_count = int(video_cap.get(cv2.CAP_PROP_FRAME_COUNT) or 0)\n",
        "frame_times = []\n",
        "prev_gray = None\n",
        "motion_energy_per_frame = []\n",
        "frame_idx = 0\n",
        "sampled_idx = 0\n",
        "success = True\n",
        "prog = tqdm(total=frame_count if frame_count>0 else int(VIDEO_DURATION*orig_fps))\n",
        "while True:\n",
        "    success, frame = video_cap.read()\n",
        "    if not success:\n",
        "        break\n",
        "    if frame_idx % frame_interval == 0:\n",
        "        # resize for speed\n",
        "        h, w = frame.shape[:2]\n",
        "        small = cv2.resize(frame, (w // 4, h // 4))\n",
        "        gray = cv2.cvtColor(small, cv2.COLOR_BGR2GRAY)\n",
        "        if prev_gray is not None:\n",
        "            diff = cv2.absdiff(gray, prev_gray)\n",
        "            motion_val = float(np.mean(diff))  # average pixel difference\n",
        "        else:\n",
        "            motion_val = 0.0\n",
        "        motion_energy_per_frame.append(motion_val)\n",
        "        frame_times.append(frame_idx / orig_fps)\n",
        "        prev_gray = gray\n",
        "        sampled_idx += 1\n",
        "    frame_idx += 1\n",
        "    prog.update(1)\n",
        "video_cap.release()\n",
        "prog.close()\n",
        "\n",
        "# Map frame-level motion energy to per-second bins (same bins as audio)\n",
        "motion_energy = np.zeros(bins)\n",
        "counts = np.zeros(bins)\n",
        "for t_idx, t in enumerate(frame_times):\n",
        "    bin_idx = min(int(t), bins - 1)\n",
        "    motion_energy[bin_idx] += motion_energy_per_frame[t_idx]\n",
        "    counts[bin_idx] += 1\n",
        "for i in range(bins):\n",
        "    if counts[i] > 0:\n",
        "        motion_energy[i] /= counts[i]\n",
        "# Normalize\n",
        "if motion_energy.max() > 0:\n",
        "    motion_energy = motion_energy / motion_energy.max()\n",
        "\n",
        "print('Motion energy (per second):', motion_energy.shape)"
      ],
      "metadata": {
        "colab": {
          "base_uri": "https://localhost:8080/"
        },
        "id": "sqcffKj5WbKe",
        "outputId": "2a7871a7-210f-4d21-f991-3e48ccf362e4"
      },
      "execution_count": 32,
      "outputs": [
        {
          "output_type": "stream",
          "name": "stdout",
          "text": [
            "Computing visual motion energy (frame differencing)...\n"
          ]
        },
        {
          "output_type": "stream",
          "name": "stderr",
          "text": [
            "100%|█████████▉| 657/660 [00:01<00:00, 348.04it/s]"
          ]
        },
        {
          "output_type": "stream",
          "name": "stdout",
          "text": [
            "Motion energy (per second): (22,)\n"
          ]
        },
        {
          "output_type": "stream",
          "name": "stderr",
          "text": [
            "\n"
          ]
        }
      ]
    },
    {
      "cell_type": "code",
      "source": [
        "print('Combining audio + motion into unified energy...')\n",
        "combined_energy = MOTION_WEIGHT * motion_energy + AUDIO_WEIGHT * audio_energy\n",
        "# If audio or motion arrays are different length (should not be), pad\n",
        "if len(combined_energy) < bins:\n",
        "    combined_energy = np.pad(combined_energy, (0, bins - len(combined_energy)))\n",
        "\n",
        "# Smooth a bit with moving average\n",
        "def smooth(x, k=3):\n",
        "    if len(x) < k:\n",
        "        return x\n",
        "    return np.convolve(x, np.ones(k)/k, mode='same')\n",
        "combined_energy_smooth = smooth(combined_energy, k=3)\n",
        "\n",
        "# Save a CSV with per-second energies\n",
        "df = pd.DataFrame({\n",
        "    'second': list(range(bins)),\n",
        "    'audio_energy': audio_energy.tolist(),\n",
        "    'motion_energy': motion_energy.tolist(),\n",
        "    'combined_energy': combined_energy_smooth.tolist(),\n",
        "})\n",
        "df.to_csv('outputs/segments.csv', index=False)\n",
        "print('Saved outputs/segments.csv')"
      ],
      "metadata": {
        "colab": {
          "base_uri": "https://localhost:8080/"
        },
        "id": "UT4PdoMeWiCg",
        "outputId": "5106ef33-bf4a-4402-d83b-7e70156cc546"
      },
      "execution_count": 33,
      "outputs": [
        {
          "output_type": "stream",
          "name": "stdout",
          "text": [
            "Combining audio + motion into unified energy...\n",
            "Saved outputs/segments.csv\n"
          ]
        }
      ]
    },
    {
      "cell_type": "code",
      "source": [
        "print('Identifying low-energy moments...')\n",
        "mean_e = float(np.mean(combined_energy_smooth))\n",
        "std_e = float(np.std(combined_energy_smooth))\n",
        "# low energy threshold: below mean - 0.35*std (tunable)\n",
        "low_thresh = mean_e - 0.35 * std_e\n",
        "low_indices = np.where(combined_energy_smooth < low_thresh)[0]\n",
        "\n",
        "# Merge consecutive low seconds into contiguous low-energy segments\n",
        "low_segments = []\n",
        "if len(low_indices) > 0:\n",
        "    start = low_indices[0]\n",
        "    prev = low_indices[0]\n",
        "    for idx in low_indices[1:]:\n",
        "        if idx == prev + 1:\n",
        "            prev = idx\n",
        "            continue\n",
        "        else:\n",
        "            low_segments.append((start, prev + 1))\n",
        "            start = idx\n",
        "            prev = idx\n",
        "    low_segments.append((start, prev + 1))\n",
        "\n",
        "print('Detected low-energy segments (second ranges):', low_segments)\n",
        "\n",
        "# Generate show cues using a T5-small text generation pipeline (lightweight)\n",
        "print('Loading text generation model (this may take a moment)...')\n",
        "text_gen = pipeline('text2text-generation', model='google/flan-t5-small', device_map='auto' if hasattr(__import__('os'), 'environ') else None)\n",
        "\n",
        "show_cues = []\n",
        "for (s, e) in low_segments:\n",
        "    prompt = (\n",
        "        f\"You are a creative show designer. For a low-energy crowd moment from second {s} to {e} in a festival event or crowd gathered event,\"\n",
        "        \" suggest one short, punchy show cue (7 words max) that the lighting or stage team can perform instantly.\"\n",
        "    )\n",
        "    out = text_gen(prompt, max_length=32, do_sample=True, top_p=0.9, num_return_sequences=1)[0]['generated_text']\n",
        "    cue = out.strip().replace('\\n', ' ')\n",
        "    show_cues.append({'start': int(s), 'end': int(e), 'cue': cue})\n",
        "\n",
        "# Save show cues\n",
        "with open('outputs/show_cues.txt', 'w', encoding='utf-8') as f:\n",
        "    for c in show_cues:\n",
        "        f.write(f\"{c['start']}-{c['end']}: {c['cue']}\\n\")\n",
        "\n",
        "print('Saved outputs/show_cues.txt')"
      ],
      "metadata": {
        "colab": {
          "base_uri": "https://localhost:8080/"
        },
        "id": "rTr8ewueWn_t",
        "outputId": "53bf03c2-a688-4890-fcfd-a0fd138c9724"
      },
      "execution_count": 34,
      "outputs": [
        {
          "output_type": "stream",
          "name": "stdout",
          "text": [
            "Identifying low-energy moments...\n",
            "Detected low-energy segments (second ranges): [(np.int64(0), np.int64(6))]\n",
            "Loading text generation model (this may take a moment)...\n",
            "Saved outputs/show_cues.txt\n"
          ]
        }
      ]
    },
    {
      "cell_type": "code",
      "source": [
        "print('Finding highest-energy 10-second window...')\n",
        "window = HIGHLIGHT_SECONDS\n",
        "best_sum = -1\n",
        "best_start = 0\n",
        "for s in range(0, bins - window + 1):\n",
        "    val = combined_energy_smooth[s:s+window].sum()\n",
        "    if val > best_sum:\n",
        "        best_sum = val\n",
        "        best_start = s\n",
        "best_end = best_start + window\n",
        "print(f'Best highlight window: {best_start}s to {best_end}s (score {best_sum:.3f})')\n",
        "\n",
        "# Extract highlight clip using moviepy\n",
        "highlight_path = 'outputs/highlight.mp4'\n",
        "start_t = float(best_start)\n",
        "end_t = float(best_end)\n",
        "subclip = clip.subclip(start_t, min(end_t, clip.duration))\n",
        "# write out\n",
        "subclip.write_videofile(highlight_path, codec='libx264', audio_codec='aac', verbose=False, logger=None)\n",
        "print('Saved highlight clip to', highlight_path)\n",
        "print('Rendering timeline plot...')\n",
        "plt.figure(figsize=(12,3))\n",
        "seconds = np.arange(len(combined_energy_smooth))\n",
        "plt.plot(seconds, combined_energy_smooth, label='combined_energy')\n",
        "plt.fill_between(seconds, 0, combined_energy_smooth, alpha=0.2)\n",
        "# mark low segments\n",
        "for (s,e) in low_segments:\n",
        "    plt.axvspan(s, e, color='orange', alpha=0.25, label='low-energy' if s==low_segments[0][0] else '')\n",
        "# mark highlight\n",
        "plt.axvspan(best_start, best_end, color='green', alpha=0.25, label='highlight (10s)')\n",
        "plt.legend()\n",
        "plt.xlabel('Time (s)')\n",
        "plt.ylabel('Normalized energy (0-1)')\n",
        "plt.title('Crowd Energy Timeline')\n",
        "plt.tight_layout()\n",
        "plt.savefig('outputs/energy_timeline.png', dpi=150)\n",
        "plt.show()\n",
        "print('Saved outputs/energy_timeline.png')\n"
      ],
      "metadata": {
        "colab": {
          "base_uri": "https://localhost:8080/",
          "height": 350
        },
        "id": "S7eMQXXAWw7Q",
        "outputId": "9cf10917-66e9-4fd9-b91e-e4179dbed057"
      },
      "execution_count": 35,
      "outputs": [
        {
          "output_type": "stream",
          "name": "stdout",
          "text": [
            "Finding highest-energy 10-second window...\n",
            "Best highlight window: 11s to 21s (score 6.300)\n",
            "Saved highlight clip to outputs/highlight.mp4\n",
            "Rendering timeline plot...\n"
          ]
        },
        {
          "output_type": "display_data",
          "data": {
            "text/plain": [
              "<Figure size 1200x300 with 1 Axes>"
            ],
            "image/png": "[encoded data removed]"
          },
          "metadata": {}
        },
        {
          "output_type": "stream",
          "name": "stdout",
          "text": [
            "Saved outputs/energy_timeline.png\n"
          ]
        }
      ]
    }
  ]
}